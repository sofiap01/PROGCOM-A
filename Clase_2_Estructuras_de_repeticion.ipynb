{
  "nbformat": 4,
  "nbformat_minor": 0,
  "metadata": {
    "colab": {
      "provenance": [],
      "authorship_tag": "ABX9TyNQMXJ0UQfV1nXVIiVTxV1E",
      "include_colab_link": true
    },
    "kernelspec": {
      "name": "python3",
      "display_name": "Python 3"
    },
    "language_info": {
      "name": "python"
    }
  },
  "cells": [
    {
      "cell_type": "markdown",
      "metadata": {
        "id": "view-in-github",
        "colab_type": "text"
      },
      "source": [
        "<a href=\"https://colab.research.google.com/github/sofiap01/PROGCOM-A/blob/main/Clase_2_Estructuras_de_repeticion.ipynb\" target=\"_parent\"><img src=\"https://colab.research.google.com/assets/colab-badge.svg\" alt=\"Open In Colab\"/></a>"
      ]
    },
    {
      "cell_type": "markdown",
      "source": [
        "##Estructura para-for\n",
        "\n",
        "1.   Cuando se sabe cuantas veces se repite una accion\n",
        "2.   Esta conformado por una condicion inicial (CI) una\n",
        "condicion final (CF) y pasos (frecuencia de repetecion).\n",
        "3.   Esta estructura no se detendra, hasta alcanzar CF-1\n",
        "\n",
        "Estructura general del for\n",
        "\n",
        "```\n",
        "for (variable) in range (CI,CF+1, Paso):\n",
        "    Se repite (CF+1-CI)/paso veces una accion.\n",
        "```\n",
        "Estructura resumida del for\n",
        "\n",
        "\n",
        "```\n",
        "for (Variable) in range (cantidad):\n",
        "    se repite cantidad de veces una accion\n",
        "```\n",
        "Estructura for como iteraccion\n",
        "1. el para (for) itera tantas veces , como elementos tenga la lista\n",
        "2. La variable toma el valor de cada elemento de la lista por iteracion.\n",
        "\n",
        "\n",
        "\n",
        "```\n",
        "Lista=[1,2,3,4,5]\n",
        "for (variable) in Lista:\n",
        "    se repite Len(lista)\n",
        "```\n",
        "\n",
        "\n",
        "\n"
      ],
      "metadata": {
        "id": "YDbBLUblQ7Kk"
      }
    },
    {
      "cell_type": "code",
      "source": [
        "#hacer la tabla de multiplicar de un numero n\n",
        "n=int(input(\"Digita un numero\"))\n"
      ],
      "metadata": {
        "colab": {
          "base_uri": "https://localhost:8080/"
        },
        "id": "0c3Qsh43Tw-S",
        "outputId": "56a8d367-2b0a-45a8-d393-0cd392167877"
      },
      "execution_count": null,
      "outputs": [
        {
          "name": "stdout",
          "output_type": "stream",
          "text": [
            "Digita un numero7\n"
          ]
        }
      ]
    },
    {
      "cell_type": "code",
      "execution_count": null,
      "metadata": {
        "colab": {
          "base_uri": "https://localhost:8080/"
        },
        "id": "kAlEqRwzQkR0",
        "outputId": "d5658536-be60-436c-9bb0-4b010fcd0529"
      },
      "outputs": [
        {
          "output_type": "stream",
          "name": "stdout",
          "text": [
            "Tablas del 7\n",
            "7 x 1=7\n",
            "7 x 2=14\n",
            "7 x 3=21\n",
            "7 x 4=28\n",
            "7 x 5=35\n",
            "7 x 6=42\n",
            "7 x 7=49\n",
            "7 x 8=56\n",
            "7 x 9=63\n",
            "7 x 10=70\n"
          ]
        }
      ],
      "source": [
        "print (f\"Tablas del {n}\")\n",
        "for holitas in range (n,11*n,n):\n",
        "   print(f\"{n} x {int(holitas/n)}={n*int(holitas/n)}\")\n"
      ]
    },
    {
      "cell_type": "code",
      "source": [
        "numeros=[1,2,3,4,5,6,7,8,9,10]\n",
        "for num in numeros:\n",
        " print(f\"{n} x {num} = {n*num}\")"
      ],
      "metadata": {
        "colab": {
          "base_uri": "https://localhost:8080/"
        },
        "id": "o5G-zBazfjNX",
        "outputId": "a023eab2-bfa2-457b-ba74-1ba678adf9b7"
      },
      "execution_count": null,
      "outputs": [
        {
          "output_type": "stream",
          "name": "stdout",
          "text": [
            "7 x 1 = 7\n",
            "7 x 2 = 14\n",
            "7 x 3 = 21\n",
            "7 x 4 = 28\n",
            "7 x 5 = 35\n",
            "7 x 6 = 42\n",
            "7 x 7 = 49\n",
            "7 x 8 = 56\n",
            "7 x 9 = 63\n",
            "7 x 10 = 70\n"
          ]
        }
      ]
    },
    {
      "cell_type": "code",
      "source": [
        "for num in numeros2:\n",
        " print(f\"{n} x {num} = {n*num}\")"
      ],
      "metadata": {
        "id": "6IadYL8FggEW",
        "outputId": "30c2973e-2e4b-4dfc-d9e5-5e6760eae8ef",
        "colab": {
          "base_uri": "https://localhost:8080/",
          "height": 158
        }
      },
      "execution_count": null,
      "outputs": [
        {
          "output_type": "error",
          "ename": "NameError",
          "evalue": "name 'numeros2' is not defined",
          "traceback": [
            "\u001b[0;31m---------------------------------------------------------------------------\u001b[0m",
            "\u001b[0;31mNameError\u001b[0m                                 Traceback (most recent call last)",
            "\u001b[0;32m/tmp/ipython-input-2428286957.py\u001b[0m in \u001b[0;36m<cell line: 0>\u001b[0;34m()\u001b[0m\n\u001b[0;32m----> 1\u001b[0;31m \u001b[0;32mfor\u001b[0m \u001b[0mnum\u001b[0m \u001b[0;32min\u001b[0m \u001b[0mnumeros2\u001b[0m\u001b[0;34m:\u001b[0m\u001b[0;34m\u001b[0m\u001b[0;34m\u001b[0m\u001b[0m\n\u001b[0m\u001b[1;32m      2\u001b[0m  \u001b[0mprint\u001b[0m\u001b[0;34m(\u001b[0m\u001b[0;34mf\"{n} x {num} = {n*num}\"\u001b[0m\u001b[0;34m)\u001b[0m\u001b[0;34m\u001b[0m\u001b[0;34m\u001b[0m\u001b[0m\n",
            "\u001b[0;31mNameError\u001b[0m: name 'numeros2' is not defined"
          ]
        }
      ]
    },
    {
      "cell_type": "markdown",
      "source": [
        "##Listas\n",
        "1. Es un tipo de datos\n",
        "2. Todos los elementos d euna lista **deben** separarse por comas\n",
        "3. Forma canonica para declarar una lista\n",
        "\n",
        "\n",
        "```\n",
        "Ejemplo:\n",
        "flores=[\"amapola\", \"tulipan\", \"lengua de suegra\", dahlia, rosa]\n",
        "\n",
        "```"
      ],
      "metadata": {
        "id": "xAugzkJCzZrx"
      }
    },
    {
      "cell_type": "code",
      "source": [
        "dahlia=3 #variable de tiempo numerico, int\n",
        "rosa=\"cinco\" #VAriable de tipo alfanumerico, str\n",
        "flores=[\"amapola\", \"tulipan\", \"lengua de suegra\", dahlia, rosa]"
      ],
      "metadata": {
        "id": "5BrWr6-izaq6"
      },
      "execution_count": null,
      "outputs": []
    },
    {
      "cell_type": "markdown",
      "source": [
        "4. Manual.\n",
        "\n",
        "```\n",
        "Lista2=[dato1, dato2, dato3...datoN]\n",
        "```\n",
        "5. Siempre son finitas\n",
        "6. SOn indexadas\n",
        "\n",
        "```\n",
        "Lista2=[dato1, dato2, dato3...datoN]\n",
        "\n",
        "```\n",
        "dato1 esta en el index 0\n",
        "dato2 esta ubicado en el index 1\n",
        "\n",
        "7. Estructuras **para** para la creacion de listas\n",
        "\n",
        "```\n",
        "#Ejemplo: Crear una lista de 5 elementos\n",
        "lista=[] #para que el programa sepa que es una lista\n",
        "for loquesea in range (5):\n",
        "   Lista=input(\"Ingrese el nombre de una flor\")\n",
        "\n",
        "```\n",
        "\n",
        "\n"
      ],
      "metadata": {
        "id": "YiJZTXJi0Fag"
      }
    },
    {
      "cell_type": "code",
      "source": [
        "Lista=[]\n",
        "for loquesea in range (5):\n",
        "   Lista=input(\"Ingrese el nombre de una flor\")"
      ],
      "metadata": {
        "id": "UlbKfbtW1754"
      },
      "execution_count": null,
      "outputs": []
    },
    {
      "cell_type": "code",
      "source": [
        "flores"
      ],
      "metadata": {
        "id": "GMBxi5W52ed3"
      },
      "execution_count": null,
      "outputs": []
    },
    {
      "cell_type": "code",
      "source": [
        "#quiero saber quien esta en la primera posicion\n",
        "flores [0]"
      ],
      "metadata": {
        "id": "QmP6CDdV3HUh"
      },
      "execution_count": null,
      "outputs": []
    },
    {
      "cell_type": "markdown",
      "source": [
        "Saber quien esta en la ultima posicion"
      ],
      "metadata": {
        "id": "WEVePUQk3Wse"
      }
    },
    {
      "cell_type": "code",
      "source": [
        "flores[4]"
      ],
      "metadata": {
        "id": "Zs9gWiZw3ab4"
      },
      "execution_count": null,
      "outputs": []
    },
    {
      "cell_type": "code",
      "source": [
        "len(flores)"
      ],
      "metadata": {
        "id": "bDk-XGL-3hKy"
      },
      "execution_count": null,
      "outputs": []
    },
    {
      "cell_type": "code",
      "source": [
        "flores[len(flores)-1]"
      ],
      "metadata": {
        "id": "4m8G4k2Z3ubI"
      },
      "execution_count": null,
      "outputs": []
    },
    {
      "cell_type": "code",
      "source": [
        "flores.indec(\"lengua de suegra\")"
      ],
      "metadata": {
        "id": "8CkBhQlJ4BBe"
      },
      "execution_count": null,
      "outputs": []
    },
    {
      "cell_type": "markdown",
      "source": [
        "ESTRUCTURAS DE REPETICION"
      ],
      "metadata": {
        "id": "Jkp__a_R-NDb"
      }
    },
    {
      "cell_type": "markdown",
      "source": [
        "1."
      ],
      "metadata": {
        "id": "N1kOKtGT_meM"
      }
    },
    {
      "cell_type": "code",
      "source": [
        "numeros = [5, -3, 0]\n",
        "\n",
        "for n in numeros:\n",
        "    if n > 0:\n",
        "        print(f\"{n} es positivo\")\n",
        "    else:\n",
        "        print(f\"{n} no es positivo\")"
      ],
      "metadata": {
        "id": "ApA8Qf6K_nYm"
      },
      "execution_count": null,
      "outputs": []
    },
    {
      "cell_type": "markdown",
      "source": [
        "2."
      ],
      "metadata": {
        "id": "4izr2BGW_oco"
      }
    },
    {
      "cell_type": "code",
      "source": [
        "edades = [15, 20, 18]\n",
        "\n",
        "for edad in edades:\n",
        "    if edad >= 18:\n",
        "        print(f\"{edad} años → Mayor de edad\")\n",
        "    else:\n",
        "        print(f\"{edad} años → Menor de edad\")"
      ],
      "metadata": {
        "id": "ipjb4mYJ_pWb"
      },
      "execution_count": null,
      "outputs": []
    },
    {
      "cell_type": "markdown",
      "source": [
        "3."
      ],
      "metadata": {
        "id": "PaG3NRmq_t-s"
      }
    },
    {
      "cell_type": "code",
      "source": [
        ""
      ],
      "metadata": {
        "id": "3JRtMGcN_ums"
      },
      "execution_count": null,
      "outputs": []
    },
    {
      "cell_type": "markdown",
      "source": [
        "4."
      ],
      "metadata": {
        "id": "oEyHuUCqAgZE"
      }
    },
    {
      "cell_type": "code",
      "source": [
        "calificaciones = [59, 60, 85, 40]\n",
        "\n",
        "for c in calificaciones:\n",
        "    if c >= 60:\n",
        "        print(f\"{c} → Aprobado\")\n",
        "    else:\n",
        "        print(f\"{c} → Reprobado\")"
      ],
      "metadata": {
        "id": "GYLTliUaAhDv"
      },
      "execution_count": null,
      "outputs": []
    },
    {
      "cell_type": "markdown",
      "source": [
        "5."
      ],
      "metadata": {
        "id": "uJdBWaXEAhlv"
      }
    },
    {
      "cell_type": "code",
      "source": [
        "numeros = [2, 7, 10, 13]\n",
        "\n",
        "for n in numeros:\n",
        "    if n % 2 == 0:\n",
        "        print(f\"{n} es par\")\n",
        "    else:\n",
        "        print(f\"{n} es impar\")"
      ],
      "metadata": {
        "id": "_2dhcfPLAiLD"
      },
      "execution_count": null,
      "outputs": []
    },
    {
      "cell_type": "markdown",
      "source": [
        "6."
      ],
      "metadata": {
        "id": "FXBCV-hgAj7Z"
      }
    },
    {
      "cell_type": "code",
      "source": [
        "trios = [(5, 9, 3), (10, 20, 15), (7, 7, 7)]\n",
        "\n",
        "for a, b, c in trios:\n",
        "    mayor = max([a, b, c])\n",
        "    print(f\"Entre {a}, {b}, {c} el mayor es {mayor}\")"
      ],
      "metadata": {
        "id": "p1ySEDEcAp2n"
      },
      "execution_count": null,
      "outputs": []
    },
    {
      "cell_type": "markdown",
      "source": [
        "7."
      ],
      "metadata": {
        "id": "AU8MILX2Ar5a"
      }
    },
    {
      "cell_type": "code",
      "source": [
        "años = [2020, 2021, 1900, 2000]\n",
        "\n",
        "for año in años:\n",
        "    if (año % 4 == 0 and año % 100 != 0) or (año % 400 == 0):\n",
        "        print(f\"{año} es bisiesto\")\n",
        "    else:\n",
        "        print(f\"{año} no es bisiesto\")"
      ],
      "metadata": {
        "id": "CIK7H9CKAsmp"
      },
      "execution_count": null,
      "outputs": []
    },
    {
      "cell_type": "markdown",
      "source": [
        "8."
      ],
      "metadata": {
        "id": "Rh7xOZH9AurH"
      }
    },
    {
      "cell_type": "code",
      "source": [
        "contrasenas = [\"Hola123\", \"Password1\", \"ClaveSegura2025\", \"abc\"]\n",
        "\n",
        "for c in contrasenas:\n",
        "    if len(c) > 8 and any(ch.isdigit() for ch in c) and any(ch.isupper() for ch in c):\n",
        "        print(f\"{c} → Contraseña válida \")\n",
        "    else:\n",
        "        print(f\"{c} → Contraseña inválida \")"
      ],
      "metadata": {
        "id": "LN-Qo19mAvSx"
      },
      "execution_count": null,
      "outputs": []
    },
    {
      "cell_type": "markdown",
      "source": [
        "9."
      ],
      "metadata": {
        "id": "XJDE8cMvAzn5"
      }
    },
    {
      "cell_type": "code",
      "source": [
        "numeros = [3, 5, 15, 7]\n",
        "\n",
        "for n in numeros:\n",
        "    if n % 3 == 0 and n % 5 == 0:\n",
        "        print(\"FizzBuzz\")\n",
        "    elif n % 3 == 0:\n",
        "        print(\"Fizz\")\n",
        "    elif n % 5 == 0:\n",
        "        print(\"Buzz\")\n",
        "    else:\n",
        "        print(n)"
      ],
      "metadata": {
        "id": "GhfoL037A0P4"
      },
      "execution_count": null,
      "outputs": []
    },
    {
      "cell_type": "markdown",
      "source": [
        "10"
      ],
      "metadata": {
        "id": "Y-6PLLatA0_w"
      }
    },
    {
      "cell_type": "code",
      "source": [
        "saldo = 5000\n",
        "retiros = [1000, 6000, 2500]\n",
        "\n",
        "for monto in retiros:\n",
        "    if monto <= saldo:\n",
        "        saldo -= monto\n",
        "        print(f\"Retiro de {monto} exitoso. Saldo restante: {saldo}\")\n",
        "    else:\n",
        "        print(f\"No se puede retirar {monto}, saldo insuficiente ({saldo})\")"
      ],
      "metadata": {
        "id": "3zGlMRyEA1mC"
      },
      "execution_count": null,
      "outputs": []
    }
  ]
}