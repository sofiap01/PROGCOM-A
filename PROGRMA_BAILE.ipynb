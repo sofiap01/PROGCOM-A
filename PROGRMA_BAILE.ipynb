{
  "nbformat": 4,
  "nbformat_minor": 0,
  "metadata": {
    "colab": {
      "provenance": [],
      "authorship_tag": "ABX9TyOBH+A+Vg0KOm2cqNQfjw/b",
      "include_colab_link": true
    },
    "kernelspec": {
      "name": "python3",
      "display_name": "Python 3"
    },
    "language_info": {
      "name": "python"
    }
  },
  "cells": [
    {
      "cell_type": "markdown",
      "metadata": {
        "id": "view-in-github",
        "colab_type": "text"
      },
      "source": [
        "<a href=\"https://colab.research.google.com/github/sofiap01/PROGCOM-A/blob/main/PROGRMA_BAILE.ipynb\" target=\"_parent\"><img src=\"https://colab.research.google.com/assets/colab-badge.svg\" alt=\"Open In Colab\"/></a>"
      ]
    },
    {
      "cell_type": "code",
      "source": [
        "def mover_cadera(veces):\n",
        "    \"\"\"\n",
        "    Mueve la cadera alternando derecha e izquierda\n",
        "    \"\"\"\n",
        "    for i in range(veces):\n",
        "        print(f\"Paso {i+1}: Muevo la cadera hacia la derecha\")\n",
        "        print(f\"Paso {i+1}: Muevo la cadera hacia la izquierda\")\n",
        "\n",
        "def pasito(veces, direccion):\n",
        "    \"\"\"\n",
        "    Da pasitos hacia la dirección indicada\n",
        "    \"\"\"\n",
        "    for i in range(veces):\n",
        "        print(f\"Paso {i+1}: Doy un pasito hacia la {direccion}\")\n",
        "\n",
        "def levantar_brazos(veces):\n",
        "    \"\"\"\n",
        "    Levanta y baja los brazos varias veces\n",
        "    \"\"\"\n",
        "    for i in range(veces):\n",
        "        print(f\"Paso {i+1}: Levanto ambos brazos hacia arriba\")\n",
        "        print(f\"Paso {i+1}: Bajo ambos brazos hacia abajo\")\n",
        "\n",
        "def giro(veces, direccion):\n",
        "    \"\"\"\n",
        "    Realiza giros completos hacia la dirección indicada\n",
        "    \"\"\"\n",
        "    for i in range(veces):\n",
        "        print(f\"Paso {i+1}: Giro completo hacia la {direccion}\")\n",
        "\n",
        "\n",
        "print(\"SECUENCIA DE BAILE\")\n",
        "\n",
        "mover_cadera(4)\n",
        "pasito(3, \"derecha\")\n",
        "pasito(3, \"izquierda\")\n",
        "\n",
        "levantar_brazos(2)\n",
        "pasito(2, \"adelante\")\n",
        "pasito(2, \"atrás\")\n",
        "\n",
        "# Final\n",
        "giro(1, \"derecha\")\n",
        "giro(1, \"izquierda\")\n",
        "print(\" FIN DE LA COREOGRAFÍA\")\n"
      ],
      "metadata": {
        "colab": {
          "base_uri": "https://localhost:8080/"
        },
        "id": "mCnyQYGEgL62",
        "outputId": "3f5716fc-a99e-4422-8e85-5c302d21bde7"
      },
      "execution_count": 12,
      "outputs": [
        {
          "output_type": "stream",
          "name": "stdout",
          "text": [
            "SECUENCIA DE BAILE\n",
            "Paso 1: Muevo la cadera hacia la derecha\n",
            "Paso 1: Muevo la cadera hacia la izquierda\n",
            "Paso 2: Muevo la cadera hacia la derecha\n",
            "Paso 2: Muevo la cadera hacia la izquierda\n",
            "Paso 3: Muevo la cadera hacia la derecha\n",
            "Paso 3: Muevo la cadera hacia la izquierda\n",
            "Paso 4: Muevo la cadera hacia la derecha\n",
            "Paso 4: Muevo la cadera hacia la izquierda\n",
            "Paso 1: Doy un pasito hacia la derecha\n",
            "Paso 2: Doy un pasito hacia la derecha\n",
            "Paso 3: Doy un pasito hacia la derecha\n",
            "Paso 1: Doy un pasito hacia la izquierda\n",
            "Paso 2: Doy un pasito hacia la izquierda\n",
            "Paso 3: Doy un pasito hacia la izquierda\n",
            "Paso 1: Levanto ambos brazos hacia arriba\n",
            "Paso 1: Bajo ambos brazos hacia abajo\n",
            "Paso 2: Levanto ambos brazos hacia arriba\n",
            "Paso 2: Bajo ambos brazos hacia abajo\n",
            "Paso 1: Doy un pasito hacia la adelante\n",
            "Paso 2: Doy un pasito hacia la adelante\n",
            "Paso 1: Doy un pasito hacia la atrás\n",
            "Paso 2: Doy un pasito hacia la atrás\n",
            "Paso 1: Giro completo hacia la derecha\n",
            "Paso 1: Giro completo hacia la izquierda\n",
            " FIN DE LA COREOGRAFÍA\n"
          ]
        }
      ]
    }
  ]
}