{
  "nbformat": 4,
  "nbformat_minor": 0,
  "metadata": {
    "colab": {
      "provenance": []
    },
    "kernelspec": {
      "name": "python3",
      "display_name": "Python 3"
    },
    "language_info": {
      "name": "python"
    }
  },
  "cells": [
    {
      "cell_type": "markdown",
      "source": [
        "##Prueba diagnostica\n",
        ""
      ],
      "metadata": {
        "id": "FGDmJOVnKNGW"
      }
    },
    {
      "cell_type": "markdown",
      "source": [
        "##Estructuras de seleccion\n",
        "\n",
        "\n",
        "```\n",
        "si (condicion) entonces:\n",
        "  pasan cosas divertidas\n",
        "sino:\n",
        "  llorelo\n",
        "```\n",
        "\n",
        "\n"
      ],
      "metadata": {
        "id": "bhMTD_EsLF22"
      }
    },
    {
      "cell_type": "code",
      "execution_count": null,
      "metadata": {
        "id": "ebTgl7WvI71d"
      },
      "outputs": [],
      "source": []
    }
  ]
}