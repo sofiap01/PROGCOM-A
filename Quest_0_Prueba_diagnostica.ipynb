{
  "nbformat": 4,
  "nbformat_minor": 0,
  "metadata": {
    "colab": {
      "provenance": [],
      "authorship_tag": "ABX9TyO9T6C299vmKPjt87nOz+MK",
      "include_colab_link": true
    },
    "kernelspec": {
      "name": "python3",
      "display_name": "Python 3"
    },
    "language_info": {
      "name": "python"
    }
  },
  "cells": [
    {
      "cell_type": "markdown",
      "metadata": {
        "id": "view-in-github",
        "colab_type": "text"
      },
      "source": [
        "<a href=\"https://colab.research.google.com/github/sofiap01/PROGCOM-A/blob/main/Quest_0_Prueba_diagnostica.ipynb\" target=\"_parent\"><img src=\"https://colab.research.google.com/assets/colab-badge.svg\" alt=\"Open In Colab\"/></a>"
      ]
    },
    {
      "cell_type": "markdown",
      "source": [
        "##Prueba Diagnostica"
      ],
      "metadata": {
        "id": "XJ7CG4r3VjIl"
      }
    },
    {
      "cell_type": "markdown",
      "source": [
        "##Estructuras de seleccion\n",
        "1 Escribe un programa que reciba un número e indique si es positivo.\n",
        "\n",
        "\n",
        "1.  Inicio\n",
        "2.  Mostrar el mensaje: \"Ingrese un numero\"\n",
        "3.  Leer el valor del numero\n",
        "4.  Si el mnumero es mayor a 0 mostrar: El numero es positivo\n",
        "5.  Si el numero es menor a 0 mostrar: El numero NO es positivo\n",
        "6.  Fin\n",
        "\n",
        "\n",
        "\n",
        "\n",
        "\n",
        "\n",
        "\n",
        "\n",
        "\n",
        "\n",
        "\n",
        "\n",
        "\n",
        "\n",
        "\n"
      ],
      "metadata": {
        "id": "jFU-SS0xVu_k"
      }
    },
    {
      "cell_type": "markdown",
      "source": [
        "2 Escribe un programa que reciba una edad y determine si la persona es mayor de edad.\n",
        "\n",
        "\n",
        "\n",
        "1.   Inicio\n",
        "2.   Mostrar el mensaje: \"Ingrese su edad:\"\n",
        "3.   Leer el valor de la edad\n",
        "4.   Si edad es mayor o igual a 18 entoces mostrar:\"La persona es mayor de edad\"\n",
        "5.   Si la edad es menos a 18 entonces mostrar: \" La persona es menor de edad\"\n",
        "6.   Fin\n"
      ],
      "metadata": {
        "id": "9sCirt-FXezl"
      }
    },
    {
      "cell_type": "markdown",
      "source": [
        "3 Escribe un programa que reciba dos números e imprima el mayor.\n",
        "\n",
        "\n",
        "1.   Inicio\n",
        "2.   Mostrar el mensaje: \"Ingrese el primer numero:\"\n",
        "3.   Leer el valor de numero 1\n",
        "4.   Mostrar el mensaje: \"Ingrese el segundo numero:\"\n",
        "5.   Leer el valor de numero 2\n",
        "6.   Si numero 1 es mayor que numero 2 entonces mostrar:\"El mayor es numero 1\"\n",
        "7.   Si numero 1 es menor que numero 2 entonces mostrar: \"El mayor es numero 2\"\n",
        "8.   Si numero 1 es igual a numero 2 entonces mostrar: \" Ambos numeros son iguales\"\n",
        "9.   Fin\n",
        "\n",
        "\n",
        "\n"
      ],
      "metadata": {
        "id": "QN3mqrA6YUMq"
      }
    },
    {
      "cell_type": "markdown",
      "source": [
        "4 Escribe un programa que reciba una calificación (0-100) e indique si es Aprobado (>=60) o Reprobado.\n",
        "\n",
        "1. Inicio\n",
        "2. Mostrar:\"ingrese la calificacion (0-100):\"\n",
        "3. Leer calificacion\n",
        "4. si calificacion >=60 entonces mostrar: \"Aprobado\"\n",
        "5. Si calificaciones <60 entonces mostrar: \"Reprobrado\"\n",
        "6. Fin\n",
        "\n"
      ],
      "metadata": {
        "id": "Ayyh1zYAZfQC"
      }
    },
    {
      "cell_type": "markdown",
      "source": [
        "5 Escribe un programa que determine si un número es par o impar.\n",
        "1. Inicio\n",
        "2. Mostrar: \"Ingrese un numero:\"\n",
        "3. Leer Numero\n",
        "4. Si el numero es divisible exactamente entre 2 es par\n",
        "5. si el numero no es divisible entre 2 es impar\n",
        "6. Fin"
      ],
      "metadata": {
        "id": "VFGVAnJ_a37_"
      }
    },
    {
      "cell_type": "markdown",
      "source": [
        "6 Escribe un programa que reciba tres números e imprima el mayor de los tres.\n",
        "1. Inicio\n",
        "2. Mostrar: \"ingrese el primer numero\"\n",
        "3. Leer num 1\n",
        "4.  Mostrar: \"ingrese el segundo numero\"\n",
        "5. Leer num 2\n",
        "6.  Mostrar: \"ingrese el tercer numero\"\n",
        "7. Leer num3\n",
        "8. si num 1 es mayor o igual a num 2 y num1 es mayor o igual a 3 entonces mostrar num 1 es mayor\n"
      ],
      "metadata": {
        "id": "WBD1xF6wbh6H"
      }
    },
    {
      "cell_type": "code",
      "execution_count": null,
      "metadata": {
        "id": "TpzURFvBVPNd"
      },
      "outputs": [],
      "source": []
    }
  ]
}