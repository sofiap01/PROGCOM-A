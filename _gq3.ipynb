{
  "nbformat": 4,
  "nbformat_minor": 0,
  "metadata": {
    "colab": {
      "provenance": [],
      "include_colab_link": true
    },
    "kernelspec": {
      "name": "python3",
      "display_name": "Python 3"
    },
    "language_info": {
      "name": "python"
    }
  },
  "cells": [
    {
      "cell_type": "markdown",
      "metadata": {
        "id": "view-in-github",
        "colab_type": "text"
      },
      "source": [
        "<a href=\"https://colab.research.google.com/github/sofiap01/PROGCOM-A/blob/main/_gq3.ipynb\" target=\"_parent\"><img src=\"https://colab.research.google.com/assets/colab-badge.svg\" alt=\"Open In Colab\"/></a>"
      ]
    },
    {
      "cell_type": "code",
      "execution_count": null,
      "metadata": {
        "colab": {
          "base_uri": "https://localhost:8080/"
        },
        "id": "0cFZcl-lyhYG",
        "outputId": "e4668c54-a6d3-48d6-8624-3ab8b126ecac"
      },
      "outputs": [
        {
          "output_type": "stream",
          "name": "stdout",
          "text": [
            "Calculadora de Interés Compuesto\n"
          ]
        }
      ],
      "source": [
        "def IC(capital, tasa, tiempo, n):\n",
        "    \"\"\"\n",
        "    Calcula el interés compuesto y el valor futuro.\n",
        "    capital: capital inicial\n",
        "    tasa: tasa de interés anual en forma decimal (ej. 0.08 para 8%)\n",
        "    tiempo: tiempo en años\n",
        "    n: número de capitalizaciones por año\n",
        "    \"\"\"\n",
        "    # Fórmula de Interés Compuesto\n",
        "    valor_futuro = capital * (1 + tasa / n) ** (n * tiempo)\n",
        "    interes = valor_futuro - capital\n",
        "    return interes, valor_futuro\n",
        "\n",
        "\n",
        "print(\"Calculadora de Interés Compuesto\")\n",
        "\n",
        "P = float(input(\"Ingrese el capital inicial: \"))\n",
        "r = float(input(\"Ingrese la tasa de interés anual (%): \")) / 100\n",
        "t = float(input(\"Ingrese el tiempo (en años): \"))\n",
        "n = int(input(\"Ingrese el número de veces que se capitaliza el interés por año: \"))\n",
        "\n",
        "interes, valor_futuro = IC(P, r, t, n)\n",
        "\n",
        "print(f\"\\nInterés generado: ${interes:.2f}\")\n",
        "print(f\"Valor futuro (Capital + Interés): ${valor_futuro:.2f}\")\n"
      ]
    }
  ]
}