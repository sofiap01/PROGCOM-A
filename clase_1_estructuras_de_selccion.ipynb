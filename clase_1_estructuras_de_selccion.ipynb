{
  "nbformat": 4,
  "nbformat_minor": 0,
  "metadata": {
    "colab": {
      "provenance": [],
      "authorship_tag": "ABX9TyOwJxQ1ZPXOxVKr/aEZbVNl",
      "include_colab_link": true
    },
    "kernelspec": {
      "name": "python3",
      "display_name": "Python 3"
    },
    "language_info": {
      "name": "python"
    }
  },
  "cells": [
    {
      "cell_type": "markdown",
      "metadata": {
        "id": "view-in-github",
        "colab_type": "text"
      },
      "source": [
        "<a href=\"https://colab.research.google.com/github/sofiap01/PROGCOM-A/blob/main/clase_1_estructuras_de_selccion.ipynb\" target=\"_parent\"><img src=\"https://colab.research.google.com/assets/colab-badge.svg\" alt=\"Open In Colab\"/></a>"
      ]
    },
    {
      "cell_type": "markdown",
      "source": [
        "#Estructuras de seleccion\n",
        "se emplea cuando se debe evaluar una condicion y esta da un valor de verdad (v) oo(f)"
      ],
      "metadata": {
        "id": "lqwReJXjuUul"
      }
    },
    {
      "cell_type": "markdown",
      "source": [
        "##Estructura if-else\n",
        "\n",
        "\n",
        "```\n",
        "if (condicion):\n",
        "   entro aqui si la condicion es V\n",
        "   else:\n",
        "   entro aqui, si la condicion es F\n",
        "```\n",
        "\n"
      ],
      "metadata": {
        "id": "gjiO3xGDukZl"
      }
    },
    {
      "cell_type": "code",
      "source": [
        "#Escribe un programa que reciba un numero e indique si es positivo\n",
        "n=int(input(\"Ingrese un numero\"))\n",
        "if n>=0:\n",
        "  print(f\"{n}es un numero positivo\")\n",
        "else:\n",
        "  print(n, \"NO es un numero positivo\")"
      ],
      "metadata": {
        "id": "dRHvj3S4urzF"
      },
      "execution_count": null,
      "outputs": []
    },
    {
      "cell_type": "markdown",
      "source": [
        "##seleccion multiple -elif-else\n",
        "\n",
        "\n",
        "\n",
        "```\n",
        "if (condicion1):\n",
        "  si se cumple condicion 1, entro aqui\n",
        "elif(condicion2):\n",
        "  si no se cumple condicion 1,\n",
        "  perso se cumple condicion 2 entro aqui\n",
        "else: Si no se cumple ninguna de las anteriores\n",
        "```\n",
        "\n",
        "\n",
        "\n"
      ],
      "metadata": {
        "id": "JDnBiksF0D1o"
      }
    },
    {
      "cell_type": "code",
      "source": [
        "if n>0: print(f\"{n}es un numero positivo\")\n",
        "elif n<0: print (f\"{n} NO es un numero positivo\")\n",
        "else: print(f\"{n} Es 0\")"
      ],
      "metadata": {
        "id": "j_YMoeTK0GXR"
      },
      "execution_count": null,
      "outputs": []
    },
    {
      "cell_type": "markdown",
      "source": [
        "##Operador terniario\n",
        "se usa cuando hay una condicion a evaluar simple y se desea resolver en una linea de codigo\n",
        "\n",
        "```\n",
        "(valor de verdad V) if\n",
        "(condicion) else (valor de verdad F)\n",
        "```\n",
        "\n",
        "\n",
        "\n",
        "\n",
        "\n"
      ],
      "metadata": {
        "id": "t6BBrOWY2I7N"
      }
    },
    {
      "cell_type": "code",
      "source": [
        "print(f\"{n} es un numero positivo\") if n>=0 else print(f\"{n}NO es un numero positivo\")"
      ],
      "metadata": {
        "id": "a94ShQX33cCU"
      },
      "execution_count": null,
      "outputs": []
    },
    {
      "cell_type": "code",
      "source": [
        "a=f\"{n} es un numero positivo\" if n>=0 else f\"{n} es un numero positivo \"\n",
        "print(a)"
      ],
      "metadata": {
        "id": "E4Le1ww031QV"
      },
      "execution_count": null,
      "outputs": []
    },
    {
      "cell_type": "markdown",
      "source": [
        "# Ejercicio 2\n",
        "# IF-ELSE"
      ],
      "metadata": {
        "id": "LzmgFnk2-61I"
      }
    },
    {
      "cell_type": "code",
      "source": [
        "edad = int(input(\"Ingresa tu edad: \"))\n",
        "if edad >= 18:\n",
        "    print(\"Mayor de edad\")\n",
        "else:\n",
        "    print(\"Menor de edad\")"
      ],
      "metadata": {
        "id": "iDoaVtaE-73F"
      },
      "execution_count": null,
      "outputs": []
    },
    {
      "cell_type": "markdown",
      "source": [
        "# IF-ELIF-ELSE"
      ],
      "metadata": {
        "id": "uwS9lOvw_CTm"
      }
    },
    {
      "cell_type": "code",
      "source": [
        "edad = int(input(\"Ingresa tu edad: \"))\n",
        "if edad >= 18:\n",
        "    print(\"Mayor de edad\")\n",
        "elif edad < 18:\n",
        "    print(\"Menor de edad\")"
      ],
      "metadata": {
        "id": "b3Y1889L_DGl"
      },
      "execution_count": null,
      "outputs": []
    },
    {
      "cell_type": "markdown",
      "source": [
        "# TERNARIO"
      ],
      "metadata": {
        "id": "Ft7VPhsZ_IS1"
      }
    },
    {
      "cell_type": "code",
      "source": [
        "edad = int(input(\"Ingresa tu edad: \"))\n",
        "print(\"Mayor de edad\" if edad >= 18 else \"Menor de edad\")"
      ],
      "metadata": {
        "id": "G2mqFrVM_I-e"
      },
      "execution_count": null,
      "outputs": []
    },
    {
      "cell_type": "markdown",
      "source": [
        "# Ejercicio 3"
      ],
      "metadata": {
        "id": "NF0CH764_RDx"
      }
    },
    {
      "cell_type": "markdown",
      "source": [
        "# IF-ELSE"
      ],
      "metadata": {
        "id": "EKnSzciY_xGl"
      }
    },
    {
      "cell_type": "code",
      "source": [
        "if a > b:\n",
        "    print(\"El mayor es\", a)\n",
        "else:\n",
        "    print(\"El mayor es\", b)\n"
      ],
      "metadata": {
        "id": "MORmrLXC_x31"
      },
      "execution_count": null,
      "outputs": []
    },
    {
      "cell_type": "markdown",
      "source": [
        "# IF-ELIF-ELSE"
      ],
      "metadata": {
        "id": "HtGyVk3B_9ck"
      }
    },
    {
      "cell_type": "code",
      "source": [
        "if a > b:\n",
        "    print(\"El mayor es\", a)\n",
        "elif b > a:\n",
        "    print(\"El mayor es\", b)\n",
        "else:\n",
        "    print(\"Son iguales\")"
      ],
      "metadata": {
        "id": "qv6AQCbH_-as"
      },
      "execution_count": null,
      "outputs": []
    },
    {
      "cell_type": "markdown",
      "source": [
        "# TERNARIO"
      ],
      "metadata": {
        "id": "kUqXc1bMAAQP"
      }
    },
    {
      "cell_type": "code",
      "source": [
        "print(\"El mayor es\", a if a > b else b)"
      ],
      "metadata": {
        "id": "00JuiVFhACDm"
      },
      "execution_count": null,
      "outputs": []
    },
    {
      "cell_type": "markdown",
      "source": [
        "# Ejercicio 4"
      ],
      "metadata": {
        "id": "5_24H8YZAO2u"
      }
    },
    {
      "cell_type": "markdown",
      "source": [
        "# IF-ELSE"
      ],
      "metadata": {
        "id": "jTHrTp45Ad08"
      }
    },
    {
      "cell_type": "code",
      "source": [
        "\n",
        "if nota >= 70:\n",
        "    print(\"Aprobado\")\n",
        "else:\n",
        "    print(\"Reprobado\")\n"
      ],
      "metadata": {
        "id": "TpUec3t2ASwE"
      },
      "execution_count": null,
      "outputs": []
    },
    {
      "cell_type": "markdown",
      "source": [
        "# IF-ELIF-ELSE"
      ],
      "metadata": {
        "id": "2HkPLpGgAfAE"
      }
    },
    {
      "cell_type": "code",
      "source": [
        "if nota >= 70:\n",
        "    print(\"Aprobado\")\n",
        "elif nota < 70:\n",
        "    print(\"Reprobado\")"
      ],
      "metadata": {
        "id": "OsjYd3S2Atol"
      },
      "execution_count": null,
      "outputs": []
    },
    {
      "cell_type": "markdown",
      "source": [
        "# TERNARIO"
      ],
      "metadata": {
        "id": "SwppWchGAyk8"
      }
    },
    {
      "cell_type": "code",
      "source": [
        "print(\"Aprobado\" if nota >= 60 else \"Reprobado\")"
      ],
      "metadata": {
        "id": "HeWlADBBA0R8"
      },
      "execution_count": null,
      "outputs": []
    },
    {
      "cell_type": "markdown",
      "source": [
        "# Ejercicio 5"
      ],
      "metadata": {
        "id": "R_WJJwlCA18z"
      }
    },
    {
      "cell_type": "markdown",
      "source": [
        "# IF-ELSE"
      ],
      "metadata": {
        "id": "2dwhnhPgA7kL"
      }
    },
    {
      "cell_type": "code",
      "source": [
        "if num % 2 == 0:\n",
        "    print(\"Par\")\n",
        "else:\n",
        "    print(\"Impar\")"
      ],
      "metadata": {
        "id": "iGxAp817A6FV"
      },
      "execution_count": null,
      "outputs": []
    },
    {
      "cell_type": "markdown",
      "source": [
        "# IF-ELIF-ELSE"
      ],
      "metadata": {
        "id": "Tmvv02Q6A-W0"
      }
    },
    {
      "cell_type": "code",
      "source": [
        "if num % 2 == 0:\n",
        "    print(\"Par\")\n",
        "elif num % 2 != 0:\n",
        "    print(\"Impar\")"
      ],
      "metadata": {
        "id": "UWyPUcb-BBG9"
      },
      "execution_count": null,
      "outputs": []
    },
    {
      "cell_type": "markdown",
      "source": [
        "# TERNARIO"
      ],
      "metadata": {
        "id": "hsn998VYBBxp"
      }
    },
    {
      "cell_type": "code",
      "source": [
        "print(\"Par\" if num % 2 == 0 else \"Impar\")"
      ],
      "metadata": {
        "id": "D4o0vZG_BDL_"
      },
      "execution_count": null,
      "outputs": []
    },
    {
      "cell_type": "markdown",
      "source": [
        "# Ejercicio 6"
      ],
      "metadata": {
        "id": "TRRtkSBFBFp0"
      }
    },
    {
      "cell_type": "markdown",
      "source": [
        "IF- ELSE"
      ],
      "metadata": {
        "id": "SgsygE8oCK8y"
      }
    },
    {
      "cell_type": "code",
      "source": [
        "mayor = a\n",
        "if b > mayor:\n",
        "    mayor = b\n",
        "if c > mayor:\n",
        "    mayor = c\n",
        "print(\"El mayor es\", mayor)\n"
      ],
      "metadata": {
        "id": "bUuy_1hBCKcL"
      },
      "execution_count": null,
      "outputs": []
    },
    {
      "cell_type": "markdown",
      "source": [
        "# IF-ELIF-ELSE"
      ],
      "metadata": {
        "id": "Vc0xiASkCXpi"
      }
    },
    {
      "cell_type": "code",
      "source": [
        "if a >= b and a >= c:\n",
        "    print(\"El mayor es\", a)\n",
        "elif b >= a and b >= c:\n",
        "    print(\"El mayor es\", b)\n",
        "else:\n",
        "    print(\"El mayor es\", c)\n"
      ],
      "metadata": {
        "id": "J1TQqcWiCZUa"
      },
      "execution_count": null,
      "outputs": []
    },
    {
      "cell_type": "markdown",
      "source": [
        "# TERNARIO"
      ],
      "metadata": {
        "id": "3ilu82O6CbUY"
      }
    },
    {
      "cell_type": "code",
      "source": [
        "mayor = a if a > b else b\n",
        "mayor = mayor if mayor > c else c\n",
        "print(\"El mayor es\", mayor)"
      ],
      "metadata": {
        "id": "ZMZOakIfCltC"
      },
      "execution_count": null,
      "outputs": []
    },
    {
      "cell_type": "markdown",
      "source": [
        "# Ejercicio 7"
      ],
      "metadata": {
        "id": "RWlRE6MbCpiC"
      }
    },
    {
      "cell_type": "markdown",
      "source": [
        "# IF-ELSE"
      ],
      "metadata": {
        "id": "yBIEv0f2Cus6"
      }
    },
    {
      "cell_type": "code",
      "source": [
        "if (año % 4 == 0 and año % 100 != 0) or (año % 400 == 0):\n",
        "    print(\"Bisiesto\")\n",
        "else:\n",
        "    print(\"No bisiesto\")"
      ],
      "metadata": {
        "id": "72uwmZgmCuYC"
      },
      "execution_count": null,
      "outputs": []
    },
    {
      "cell_type": "markdown",
      "source": [
        "# IF-ELIF-ELSE"
      ],
      "metadata": {
        "id": "mOdBavvRC20K"
      }
    },
    {
      "cell_type": "code",
      "source": [
        "if (año % 4 == 0 and año % 100 != 0) or (año % 400 == 0):\n",
        "    print(\"Bisiesto\")\n",
        "elif True:\n",
        "    print(\"No bisiesto\")\n"
      ],
      "metadata": {
        "id": "m5o01RUCC3SX"
      },
      "execution_count": null,
      "outputs": []
    },
    {
      "cell_type": "markdown",
      "source": [
        "#TERNARIO"
      ],
      "metadata": {
        "id": "XDKaQnZgC-Ub"
      }
    },
    {
      "cell_type": "code",
      "source": [
        "print(\"Bisiesto\" if (año % 4 == 0 and año % 100 != 0) or (año % 400 == 0) else \"No bisiesto\")"
      ],
      "metadata": {
        "id": "sPkjlgsnDDBq"
      },
      "execution_count": null,
      "outputs": []
    },
    {
      "cell_type": "markdown",
      "source": [],
      "metadata": {
        "id": "YE1OOWrdDEUK"
      }
    }
  ]
}