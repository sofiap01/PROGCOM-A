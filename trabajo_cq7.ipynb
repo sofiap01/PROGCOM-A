{
  "nbformat": 4,
  "nbformat_minor": 0,
  "metadata": {
    "colab": {
      "provenance": [],
      "include_colab_link": true
    },
    "kernelspec": {
      "name": "python3",
      "display_name": "Python 3"
    },
    "language_info": {
      "name": "python"
    }
  },
  "cells": [
    {
      "cell_type": "markdown",
      "metadata": {
        "id": "view-in-github",
        "colab_type": "text"
      },
      "source": [
        "<a href=\"https://colab.research.google.com/github/sofiap01/PROGCOM-A/blob/main/trabajo_cq7.ipynb\" target=\"_parent\"><img src=\"https://colab.research.google.com/assets/colab-badge.svg\" alt=\"Open In Colab\"/></a>"
      ]
    },
    {
      "cell_type": "markdown",
      "source": [
        "##TRABAJO CQ7"
      ],
      "metadata": {
        "id": "BHsSOpqm2cpM"
      }
    },
    {
      "cell_type": "markdown",
      "source": [
        "#Repositorio de palabras reservadas de python"
      ],
      "metadata": {
        "id": "Q_inI1SG2rxL"
      }
    },
    {
      "cell_type": "markdown",
      "source": [
        "#1.\"False\":Valor booleano falso"
      ],
      "metadata": {
        "id": "FZH8RcDf3djU"
      }
    },
    {
      "cell_type": "markdown",
      "source": [
        "Ejemplo:"
      ],
      "metadata": {
        "id": "Kvzr507C3mLf"
      }
    },
    {
      "cell_type": "code",
      "source": [
        "print(False) # Imprime False"
      ],
      "metadata": {
        "colab": {
          "base_uri": "https://localhost:8080/"
        },
        "id": "KopE4i183oe9",
        "outputId": "18efeb60-c18e-4d87-edc4-f341340e0b0a"
      },
      "execution_count": null,
      "outputs": [
        {
          "output_type": "stream",
          "name": "stdout",
          "text": [
            "False\n"
          ]
        }
      ]
    },
    {
      "cell_type": "markdown",
      "source": [
        "#2.\"True\":Valor booleano verdadero"
      ],
      "metadata": {
        "id": "doKhkeZV4HUB"
      }
    },
    {
      "cell_type": "markdown",
      "source": [
        "Ejemplo:"
      ],
      "metadata": {
        "id": "uCQu125x4W0C"
      }
    },
    {
      "cell_type": "code",
      "source": [
        "print(True) # Imprime True"
      ],
      "metadata": {
        "colab": {
          "base_uri": "https://localhost:8080/"
        },
        "id": "MuDyeet74ZQE",
        "outputId": "ac931d26-d474-4acd-81eb-58353e0a18ac"
      },
      "execution_count": null,
      "outputs": [
        {
          "output_type": "stream",
          "name": "stdout",
          "text": [
            "True\n"
          ]
        }
      ]
    },
    {
      "cell_type": "markdown",
      "source": [
        "#3.\"None\":Representa la ausencia de valor"
      ],
      "metadata": {
        "id": "NnvRqJch4dF2"
      }
    },
    {
      "cell_type": "markdown",
      "source": [
        "Ejemplo:"
      ],
      "metadata": {
        "id": "y412lRWI4m7w"
      }
    },
    {
      "cell_type": "code",
      "source": [
        "x = None\n",
        "print(x) # Imprime None"
      ],
      "metadata": {
        "colab": {
          "base_uri": "https://localhost:8080/"
        },
        "id": "ES5WE3dy4pEV",
        "outputId": "2de108b5-6db3-4cac-97a0-3b27f6762600"
      },
      "execution_count": null,
      "outputs": [
        {
          "output_type": "stream",
          "name": "stdout",
          "text": [
            "None\n"
          ]
        }
      ]
    },
    {
      "cell_type": "markdown",
      "source": [
        "#4.\"and\":Operador lógico AND"
      ],
      "metadata": {
        "id": "bsI_ltMA4tmK"
      }
    },
    {
      "cell_type": "markdown",
      "source": [
        "Ejemplo:"
      ],
      "metadata": {
        "id": "bQWj3v_Y41CU"
      }
    },
    {
      "cell_type": "code",
      "source": [
        "print(True and False) # False"
      ],
      "metadata": {
        "colab": {
          "base_uri": "https://localhost:8080/"
        },
        "id": "EqrDMlkN42fC",
        "outputId": "35abe53e-d9c2-475e-cf36-d553e632fb82"
      },
      "execution_count": null,
      "outputs": [
        {
          "output_type": "stream",
          "name": "stdout",
          "text": [
            "False\n"
          ]
        }
      ]
    },
    {
      "cell_type": "markdown",
      "source": [
        "#5.\"or\":Operador lógico OR"
      ],
      "metadata": {
        "id": "OlK7My706QyK"
      }
    },
    {
      "cell_type": "markdown",
      "source": [
        "Ejemplo:"
      ],
      "metadata": {
        "id": "5o_0Lpv26V5O"
      }
    },
    {
      "cell_type": "code",
      "source": [
        "print(True or False) # True"
      ],
      "metadata": {
        "colab": {
          "base_uri": "https://localhost:8080/"
        },
        "id": "8zDMVqWV6YCR",
        "outputId": "99e9d89e-606c-4cdb-bf67-9e7b55095eeb"
      },
      "execution_count": null,
      "outputs": [
        {
          "output_type": "stream",
          "name": "stdout",
          "text": [
            "True\n"
          ]
        }
      ]
    },
    {
      "cell_type": "markdown",
      "source": [
        "#6.\"not\":Operador lógico de negación"
      ],
      "metadata": {
        "id": "6IBbQYQ65A2X"
      }
    },
    {
      "cell_type": "markdown",
      "source": [
        "Ejemplo:"
      ],
      "metadata": {
        "id": "Stb8xtZ05VyK"
      }
    },
    {
      "cell_type": "code",
      "source": [
        "print(not True) # False"
      ],
      "metadata": {
        "colab": {
          "base_uri": "https://localhost:8080/"
        },
        "id": "VYi4LmHR5YHJ",
        "outputId": "f8524366-33f8-49ff-ea78-c68cc67a4f0c"
      },
      "execution_count": null,
      "outputs": [
        {
          "output_type": "stream",
          "name": "stdout",
          "text": [
            "False\n"
          ]
        }
      ]
    },
    {
      "cell_type": "markdown",
      "source": [
        "#7.\"if\":Condicional"
      ],
      "metadata": {
        "id": "edgUv84G5c8w"
      }
    },
    {
      "cell_type": "markdown",
      "source": [
        "Ejemplo:"
      ],
      "metadata": {
        "id": "yjW2Af525k6h"
      }
    },
    {
      "cell_type": "code",
      "source": [
        "numero = 10\n",
        "if numero > 0:\n",
        "    print(\"El número es positivo\")"
      ],
      "metadata": {
        "colab": {
          "base_uri": "https://localhost:8080/"
        },
        "id": "MBKjUgZe7ZDp",
        "outputId": "5104343e-b0c3-4636-9af3-b74953059124"
      },
      "execution_count": null,
      "outputs": [
        {
          "output_type": "stream",
          "name": "stdout",
          "text": [
            "El número es positivo\n"
          ]
        }
      ]
    },
    {
      "cell_type": "markdown",
      "source": [
        "#7.\"elif\":Condicional alternativo"
      ],
      "metadata": {
        "id": "7LEo1rHX5sTb"
      }
    },
    {
      "cell_type": "markdown",
      "source": [
        "Ejemplo:"
      ],
      "metadata": {
        "id": "o0bWmGv-50-P"
      }
    },
    {
      "cell_type": "code",
      "source": [
        "numero = 5\n",
        "if numero > 10:\n",
        "    print(\"El número es mayor que 10\")\n",
        "elif numero == 10:\n",
        "    print(\"El número es exactamente 10\")\n",
        "elif numero < 10:\n",
        "    print(\"El número es menor que 10\")"
      ],
      "metadata": {
        "colab": {
          "base_uri": "https://localhost:8080/"
        },
        "id": "9t_Xt_2M53Ut",
        "outputId": "7f2e662b-d0ff-4366-a4e9-75eb94c4ae05"
      },
      "execution_count": null,
      "outputs": [
        {
          "output_type": "stream",
          "name": "stdout",
          "text": [
            "El número es menor que 10\n"
          ]
        }
      ]
    },
    {
      "cell_type": "markdown",
      "source": [
        "#8.\"else\":Condicional por defecto"
      ],
      "metadata": {
        "id": "fANBPklf72R4"
      }
    },
    {
      "cell_type": "markdown",
      "source": [
        "Ejemplo:"
      ],
      "metadata": {
        "id": "oW7sK2V47-6_"
      }
    },
    {
      "cell_type": "code",
      "source": [
        "numero = -3\n",
        "if numero >= 0:\n",
        "    print(\"El número es positivo o cero\")\n",
        "else:\n",
        "    print(\"El número es negativo\")"
      ],
      "metadata": {
        "colab": {
          "base_uri": "https://localhost:8080/"
        },
        "id": "wKkVTbMV8Ava",
        "outputId": "72440472-d989-4f99-b7bd-6d2f82d5b768"
      },
      "execution_count": null,
      "outputs": [
        {
          "output_type": "stream",
          "name": "stdout",
          "text": [
            "El número es negativo\n"
          ]
        }
      ]
    },
    {
      "cell_type": "markdown",
      "source": [
        "#9.\"for\":Bucle para iterar"
      ],
      "metadata": {
        "id": "W4z3or4R8GOl"
      }
    },
    {
      "cell_type": "markdown",
      "source": [
        "Ejemplo:"
      ],
      "metadata": {
        "id": "9LWolM3Y8MXq"
      }
    },
    {
      "cell_type": "code",
      "source": [
        "for i in range(5):\n",
        "    print(\"Número:\", i)"
      ],
      "metadata": {
        "colab": {
          "base_uri": "https://localhost:8080/"
        },
        "id": "sjGr8kzK8OFF",
        "outputId": "ce284233-d675-4e90-d17e-c25d6b03c04b"
      },
      "execution_count": null,
      "outputs": [
        {
          "output_type": "stream",
          "name": "stdout",
          "text": [
            "Número: 0\n",
            "Número: 1\n",
            "Número: 2\n",
            "Número: 3\n",
            "Número: 4\n"
          ]
        }
      ]
    },
    {
      "cell_type": "markdown",
      "source": [
        "#10,\"while\":Bucle mientras se cumpla condición"
      ],
      "metadata": {
        "id": "kfpwP7Bj8Shq"
      }
    },
    {
      "cell_type": "markdown",
      "source": [
        "Ejemplo:"
      ],
      "metadata": {
        "id": "e7sVn6G08Yqa"
      }
    },
    {
      "cell_type": "code",
      "source": [
        "contador = 1\n",
        "while contador <= 5:\n",
        "    print(\"Contador:\", contador)\n",
        "    contador += 1"
      ],
      "metadata": {
        "colab": {
          "base_uri": "https://localhost:8080/"
        },
        "id": "lPr6bYbg8aMm",
        "outputId": "30dc30bb-eb94-4b34-e7a0-0d69c9c7f365"
      },
      "execution_count": null,
      "outputs": [
        {
          "output_type": "stream",
          "name": "stdout",
          "text": [
            "Contador: 1\n",
            "Contador: 2\n",
            "Contador: 3\n",
            "Contador: 4\n",
            "Contador: 5\n"
          ]
        }
      ]
    },
    {
      "cell_type": "markdown",
      "source": [
        "#11.\"break\":Rompe un ciclo"
      ],
      "metadata": {
        "id": "pYZ5n4iB8nT7"
      }
    },
    {
      "cell_type": "markdown",
      "source": [
        "Ejemplo:"
      ],
      "metadata": {
        "id": "SCijoyGA8uwy"
      }
    },
    {
      "cell_type": "code",
      "source": [
        "contador = 1\n",
        "while True:  # bucle infinito\n",
        "    print(\"Contador:\", contador)\n",
        "    if contador == 5:\n",
        "        print(\"Se alcanzó 5, saliendo...\")\n",
        "        break\n",
        "    contador += 1"
      ],
      "metadata": {
        "colab": {
          "base_uri": "https://localhost:8080/"
        },
        "id": "35sB3LVg8wYg",
        "outputId": "d2f76cc8-94bf-49ac-fc68-f5d3b7bdd81f"
      },
      "execution_count": null,
      "outputs": [
        {
          "output_type": "stream",
          "name": "stdout",
          "text": [
            "Contador: 1\n",
            "Contador: 2\n",
            "Contador: 3\n",
            "Contador: 4\n",
            "Contador: 5\n",
            "Se alcanzó 5, saliendo...\n"
          ]
        }
      ]
    },
    {
      "cell_type": "markdown",
      "source": [
        "#12.\"continue\":Salta a la siguiente iteración"
      ],
      "metadata": {
        "id": "IDc9EfVJ83fu"
      }
    },
    {
      "cell_type": "markdown",
      "source": [
        "Ejemplo:"
      ],
      "metadata": {
        "id": "eL9yl63s89fN"
      }
    },
    {
      "cell_type": "code",
      "source": [
        "for i in range(1, 6):\n",
        "    if i == 3:\n",
        "        continue  # salta lo que sigue y pasa a la siguiente iteración\n",
        "    print(\"Número:\", i)"
      ],
      "metadata": {
        "colab": {
          "base_uri": "https://localhost:8080/"
        },
        "id": "wW0omPAE9Bbr",
        "outputId": "78232e53-80f8-4320-8395-6cead57dfdc7"
      },
      "execution_count": null,
      "outputs": [
        {
          "output_type": "stream",
          "name": "stdout",
          "text": [
            "Número: 1\n",
            "Número: 2\n",
            "Número: 4\n",
            "Número: 5\n"
          ]
        }
      ]
    },
    {
      "cell_type": "markdown",
      "source": [
        "#13.\"class\":Define una clase"
      ],
      "metadata": {
        "id": "3njyN7Gj9GrL"
      }
    },
    {
      "cell_type": "markdown",
      "source": [
        "Ejemplo:"
      ],
      "metadata": {
        "id": "8qDHtayg9MP0"
      }
    },
    {
      "cell_type": "code",
      "source": [
        "class Persona:\n",
        "    def __init__(self, nombre, edad):\n",
        "        self.nombre = nombre\n",
        "        self.edad = edad\n",
        "    def saludar(self):\n",
        "        print(f\"Hola, mi nombre es {self.nombre} y tengo {self.edad} años.\")\n",
        "# Crear un objeto de la clase Persona\n",
        "persona1 = Persona(\"Ana\", 20)\n",
        "# Usar el método de la clase\n",
        "persona1.saludar()\n"
      ],
      "metadata": {
        "colab": {
          "base_uri": "https://localhost:8080/"
        },
        "id": "15ybFLon9OFn",
        "outputId": "2bf7ec61-bf94-4e9d-d52d-341db9d95328"
      },
      "execution_count": null,
      "outputs": [
        {
          "output_type": "stream",
          "name": "stdout",
          "text": [
            "Hola, mi nombre es Ana y tengo 20 años.\n"
          ]
        }
      ]
    },
    {
      "cell_type": "markdown",
      "source": [
        "#14.\"def\":Define una función"
      ],
      "metadata": {
        "id": "t0XzSpAH9VgF"
      }
    },
    {
      "cell_type": "markdown",
      "source": [
        "Ejemplo:"
      ],
      "metadata": {
        "id": "LGzmNruR9bFz"
      }
    },
    {
      "cell_type": "code",
      "source": [
        "def saludar(nombre):\n",
        "    print(f\"Hola, {nombre}!\")\n",
        "# Llamar a la función\n",
        "saludar(\"Carlos\")\n",
        "saludar(\"Ana\")"
      ],
      "metadata": {
        "colab": {
          "base_uri": "https://localhost:8080/"
        },
        "id": "W5xqgkMZ9c_Y",
        "outputId": "82f10389-ba07-4776-cf6b-e52f1cc748f8"
      },
      "execution_count": null,
      "outputs": [
        {
          "output_type": "stream",
          "name": "stdout",
          "text": [
            "Hola, Carlos!\n",
            "Hola, Ana!\n"
          ]
        }
      ]
    },
    {
      "cell_type": "markdown",
      "source": [
        "#15.\"return\":Devuelve un valor de una función"
      ],
      "metadata": {
        "id": "veF7pyVM9i5G"
      }
    },
    {
      "cell_type": "markdown",
      "source": [
        "Ejemplo:"
      ],
      "metadata": {
        "id": "KfHMQRJN9nJ7"
      }
    },
    {
      "cell_type": "code",
      "source": [
        "def sumar(a, b):\n",
        "    return a + b  # devuelve el resultado\n",
        "# Usar la función\n",
        "resultado = sumar(5, 3)\n",
        "print(\"La suma es:\", resultado)"
      ],
      "metadata": {
        "colab": {
          "base_uri": "https://localhost:8080/"
        },
        "id": "3LyTXlvu9pND",
        "outputId": "12d6d3ee-5232-46e3-94ee-9271cb7d903e"
      },
      "execution_count": null,
      "outputs": [
        {
          "output_type": "stream",
          "name": "stdout",
          "text": [
            "La suma es: 8\n"
          ]
        }
      ]
    },
    {
      "cell_type": "markdown",
      "source": [
        "#16.\"import\":Importa un módulo"
      ],
      "metadata": {
        "id": "FTB8mVvg9t4T"
      }
    },
    {
      "cell_type": "markdown",
      "source": [
        "Ejemplo:"
      ],
      "metadata": {
        "id": "r0lMy3WC914S"
      }
    },
    {
      "cell_type": "code",
      "source": [
        "import math  # importamos el módulo math\n",
        "numero = 16\n",
        "raiz = math.sqrt(numero)  # usamos la función sqrt del módulo math\n",
        "print(\"La raíz cuadrada de\", numero, \"es:\", raiz)"
      ],
      "metadata": {
        "colab": {
          "base_uri": "https://localhost:8080/"
        },
        "id": "R23lRJPX93Xg",
        "outputId": "b142dbc9-1265-41f0-af87-b79cdf5583e4"
      },
      "execution_count": null,
      "outputs": [
        {
          "output_type": "stream",
          "name": "stdout",
          "text": [
            "La raíz cuadrada de 16 es: 4.0\n"
          ]
        }
      ]
    },
    {
      "cell_type": "markdown",
      "source": [
        "#17.\"from\":Importa parte de un módulo"
      ],
      "metadata": {
        "id": "UwmKE9KC9882"
      }
    },
    {
      "cell_type": "markdown",
      "source": [
        "Ejemplo:"
      ],
      "metadata": {
        "id": "RsOt4eau-JBU"
      }
    },
    {
      "cell_type": "code",
      "source": [
        "from math import pi, sqrt  # importamos solo pi y sqrt del módulo math\n",
        "print(\"El valor de pi es:\", pi)\n",
        "print(\"La raíz cuadrada de 25 es:\", sqrt(25))"
      ],
      "metadata": {
        "colab": {
          "base_uri": "https://localhost:8080/"
        },
        "id": "-zY_nuzc-KjR",
        "outputId": "cefafa72-037a-4f6b-e3b5-65a867a5d4cb"
      },
      "execution_count": null,
      "outputs": [
        {
          "output_type": "stream",
          "name": "stdout",
          "text": [
            "El valor de pi es: 3.141592653589793\n",
            "La raíz cuadrada de 25 es: 5.0\n"
          ]
        }
      ]
    },
    {
      "cell_type": "markdown",
      "source": [
        "#18.\"as\":Renombra un módulo o variable"
      ],
      "metadata": {
        "id": "p7cF6jpX-T0j"
      }
    },
    {
      "cell_type": "markdown",
      "source": [
        "Ejemplo:"
      ],
      "metadata": {
        "id": "zG_VB11z-YoU"
      }
    },
    {
      "cell_type": "code",
      "source": [
        "import math as m  # le damos el alias \"m\" al módulo math\n",
        "numero = 9\n",
        "raiz = m.sqrt(numero)\n",
        "print(\"La raíz cuadrada de\", numero, \"es:\", raiz)"
      ],
      "metadata": {
        "colab": {
          "base_uri": "https://localhost:8080/"
        },
        "id": "gUl7E64z-aIG",
        "outputId": "7d7d265f-7e75-4ba9-b34f-731de264ea03"
      },
      "execution_count": null,
      "outputs": [
        {
          "output_type": "stream",
          "name": "stdout",
          "text": [
            "La raíz cuadrada de 9 es: 3.0\n"
          ]
        }
      ]
    },
    {
      "cell_type": "markdown",
      "source": [
        "#19.\"try\":Manejo de excepciones"
      ],
      "metadata": {
        "id": "TzyOX1ek-gO5"
      }
    },
    {
      "cell_type": "markdown",
      "source": [
        "Ejemplo:"
      ],
      "metadata": {
        "id": "fcvX3szs-lIV"
      }
    },
    {
      "cell_type": "code",
      "source": [
        "try:\n",
        "    numero = int(\"hola\")  # Esto causará un error\n",
        "    print(\"El número es:\", numero)\n",
        "except ValueError:\n",
        "    print(\"Error: No se puede convertir a número\")"
      ],
      "metadata": {
        "colab": {
          "base_uri": "https://localhost:8080/"
        },
        "id": "PeyRyPZc-m0s",
        "outputId": "6ba2fe79-40f6-440e-9f27-2c52ed3a3b65"
      },
      "execution_count": null,
      "outputs": [
        {
          "output_type": "stream",
          "name": "stdout",
          "text": [
            "Error: No se puede convertir a número\n"
          ]
        }
      ]
    },
    {
      "cell_type": "markdown",
      "source": [
        "#20.\"except\":Captura errores"
      ],
      "metadata": {
        "id": "N1i6IRJ5-sCk"
      }
    },
    {
      "cell_type": "markdown",
      "source": [
        "Ejemplo:"
      ],
      "metadata": {
        "id": "QYU_8mJH-wfJ"
      }
    },
    {
      "cell_type": "code",
      "source": [
        "try:\n",
        "    numero = int(input(\"Ingresa un número: \"))\n",
        "    print(\"El número ingresado es:\", numero)\n",
        "except ValueError:\n",
        "    print(\"Error: Debes ingresar un valor numérico.\")"
      ],
      "metadata": {
        "colab": {
          "base_uri": "https://localhost:8080/"
        },
        "id": "a8uh1Cvx-x0n",
        "outputId": "b537c2d4-38e4-42bd-dbbb-4367d5b1cc2d"
      },
      "execution_count": null,
      "outputs": [
        {
          "output_type": "stream",
          "name": "stdout",
          "text": [
            "Ingresa un número: 3\n",
            "El número ingresado es: 3\n"
          ]
        }
      ]
    },
    {
      "cell_type": "markdown",
      "source": [
        "#21.\"finally\":Bloque que siempre se ejecuta"
      ],
      "metadata": {
        "id": "6t2JbrpT-3jg"
      }
    },
    {
      "cell_type": "markdown",
      "source": [
        "Ejemplo:"
      ],
      "metadata": {
        "id": "1viH5i3Z-7s5"
      }
    },
    {
      "cell_type": "code",
      "source": [
        "try:\n",
        "    numero = int(\"abc\")  # Esto dará un error\n",
        "    print(\"El número es:\", numero)\n",
        "except ValueError:\n",
        "    print(\"Ocurrió un error al convertir el valor a número.\")\n",
        "finally:\n",
        "    print(\"Este bloque siempre se ejecuta, haya error o no.\")"
      ],
      "metadata": {
        "colab": {
          "base_uri": "https://localhost:8080/"
        },
        "id": "HRf8tNHe-9QZ",
        "outputId": "835e6e74-932e-463b-9710-cc8fc82c8b0d"
      },
      "execution_count": null,
      "outputs": [
        {
          "output_type": "stream",
          "name": "stdout",
          "text": [
            "Ocurrió un error al convertir el valor a número.\n",
            "Este bloque siempre se ejecuta, haya error o no.\n"
          ]
        }
      ]
    },
    {
      "cell_type": "markdown",
      "source": [
        "#22.\"raise\":Lanza una excepción"
      ],
      "metadata": {
        "id": "Rnday5-c_Ca6"
      }
    },
    {
      "cell_type": "markdown",
      "source": [
        "Ejemplo:"
      ],
      "metadata": {
        "id": "PAYsVwaT_Guk"
      }
    },
    {
      "cell_type": "code",
      "source": [
        "def dividir(a, b):\n",
        "    if b == 0:\n",
        "        raise ZeroDivisionError(\"No se puede dividir entre cero\")  # lanzamos un error\n",
        "    return a / b\n",
        "try:\n",
        "    resultado = dividir(10, 0)\n",
        "    print(\"Resultado:\", resultado)\n",
        "except ZeroDivisionError as e:\n",
        "    print(\"Error:\", e)"
      ],
      "metadata": {
        "colab": {
          "base_uri": "https://localhost:8080/"
        },
        "id": "Y7NoTuza_Iw-",
        "outputId": "f5b2a316-ab20-4116-a2de-7cddb6c1c2b2"
      },
      "execution_count": null,
      "outputs": [
        {
          "output_type": "stream",
          "name": "stdout",
          "text": [
            "Error: No se puede dividir entre cero\n"
          ]
        }
      ]
    },
    {
      "cell_type": "markdown",
      "source": [
        "#23.\"with\":Manejo de contexto (archivos, etc.)"
      ],
      "metadata": {
        "id": "TM5kHpfD_OKb"
      }
    },
    {
      "cell_type": "markdown",
      "source": [
        "Ejemplo:"
      ],
      "metadata": {
        "id": "3-EqJFjG_Wna"
      }
    },
    {
      "cell_type": "code",
      "source": [
        "# Abrir un archivo y escribir en él\n",
        "with open(\"ejemplo.txt\", \"w\") as archivo:\n",
        "    archivo.write(\"Hola, este es un ejemplo con 'with'.\")\n",
        "# Abrir el archivo y leer su contenido\n",
        "with open(\"ejemplo.txt\", \"r\") as archivo:\n",
        "    contenido = archivo.read()\n",
        "    print(\"Contenido del archivo:\", contenido)"
      ],
      "metadata": {
        "colab": {
          "base_uri": "https://localhost:8080/"
        },
        "id": "_5FY1oA1_YN6",
        "outputId": "900b741d-d7af-44bf-d4ed-6fdf634b346a"
      },
      "execution_count": null,
      "outputs": [
        {
          "output_type": "stream",
          "name": "stdout",
          "text": [
            "Contenido del archivo: Hola, este es un ejemplo con 'with'.\n"
          ]
        }
      ]
    },
    {
      "cell_type": "markdown",
      "source": [
        "#24.\"lambda\":Crea funciones anónimas"
      ],
      "metadata": {
        "id": "gYs0559y_fIq"
      }
    },
    {
      "cell_type": "markdown",
      "source": [
        "Ejemplo"
      ],
      "metadata": {
        "id": "q_-yo8Z1_jbi"
      }
    },
    {
      "cell_type": "code",
      "source": [
        "# Definimos una función anónima con lambda\n",
        "cuadrado = lambda x: x * x\n",
        "print(\"El cuadrado de 5 es:\", cuadrado(5))"
      ],
      "metadata": {
        "colab": {
          "base_uri": "https://localhost:8080/"
        },
        "id": "5VVC_xaq_lPT",
        "outputId": "5718f7de-cb7b-4d2d-80a5-ee03c04d4db4"
      },
      "execution_count": null,
      "outputs": [
        {
          "output_type": "stream",
          "name": "stdout",
          "text": [
            "El cuadrado de 5 es: 25\n"
          ]
        }
      ]
    },
    {
      "cell_type": "markdown",
      "source": [
        "#25.\"global\":Declara variables globales"
      ],
      "metadata": {
        "id": "oDrFVm8A_qKc"
      }
    },
    {
      "cell_type": "markdown",
      "source": [
        "Ejemplo:"
      ],
      "metadata": {
        "id": "oyi2jRYQ_v2B"
      }
    },
    {
      "cell_type": "code",
      "source": [
        "contador = 0  # variable global\n",
        "def incrementar():\n",
        "    global contador  # indicamos que usaremos la variable global\n",
        "    contador += 1\n",
        "incrementar()\n",
        "incrementar()\n",
        "print(\"El contador es:\", contador)"
      ],
      "metadata": {
        "colab": {
          "base_uri": "https://localhost:8080/"
        },
        "id": "Vg3teX6P_xRf",
        "outputId": "555129a8-575f-4d82-8379-7afd16f169e0"
      },
      "execution_count": null,
      "outputs": [
        {
          "output_type": "stream",
          "name": "stdout",
          "text": [
            "El contador es: 2\n"
          ]
        }
      ]
    },
    {
      "cell_type": "markdown",
      "source": [
        "#26.\"nonlocal\":Declara variables no locales"
      ],
      "metadata": {
        "id": "aYPtEbnU_25F"
      }
    },
    {
      "cell_type": "markdown",
      "source": [
        "Ejemplo:"
      ],
      "metadata": {
        "id": "0ILsRdxE_7on"
      }
    },
    {
      "cell_type": "code",
      "source": [
        "def exterior():\n",
        "    x = \"exterior\"\n",
        "    def interior():\n",
        "        nonlocal x  # usamos la variable de la función exterior\n",
        "        x = \"modificado en interior\"\n",
        "        print(\"Dentro de interior:\", x)\n",
        "\n",
        "    interior()\n",
        "    print(\"Dentro de exterior:\", x)\n",
        "exterior()"
      ],
      "metadata": {
        "colab": {
          "base_uri": "https://localhost:8080/"
        },
        "id": "LpnH9YWk_913",
        "outputId": "7e537677-b31b-4f9b-f0a3-f64f24bb180b"
      },
      "execution_count": null,
      "outputs": [
        {
          "output_type": "stream",
          "name": "stdout",
          "text": [
            "Dentro de interior: modificado en interior\n",
            "Dentro de exterior: modificado en interior\n"
          ]
        }
      ]
    },
    {
      "cell_type": "markdown",
      "source": [
        "#27.\"pass\":No hace nada (placeholder)"
      ],
      "metadata": {
        "id": "GOxUA4xnAJTH"
      }
    },
    {
      "cell_type": "markdown",
      "source": [
        "Ejemplo:"
      ],
      "metadata": {
        "id": "0jY1Bv6YAPLu"
      }
    },
    {
      "cell_type": "code",
      "source": [
        "def funcion_pendiente():\n",
        "    pass  # todavía no tiene código, pero evita error de sintaxis\n",
        "for i in range(5):\n",
        "    if i == 3:\n",
        "        pass  # no hacer nada cuando i es 3\n",
        "    else:\n",
        "        print(\"Número:\", i)"
      ],
      "metadata": {
        "colab": {
          "base_uri": "https://localhost:8080/"
        },
        "id": "W4TigK-2ARvc",
        "outputId": "af8bfcdd-4095-4b85-c3bd-a642bf14a4f8"
      },
      "execution_count": null,
      "outputs": [
        {
          "output_type": "stream",
          "name": "stdout",
          "text": [
            "Número: 0\n",
            "Número: 1\n",
            "Número: 2\n",
            "Número: 4\n"
          ]
        }
      ]
    },
    {
      "cell_type": "markdown",
      "source": [
        "#28.\"yield\":Devuelve un generador"
      ],
      "metadata": {
        "id": "TG1U3HpyAW4N"
      }
    },
    {
      "cell_type": "markdown",
      "source": [
        "Ejemplo:"
      ],
      "metadata": {
        "id": "Nflc5ThEAbMA"
      }
    },
    {
      "cell_type": "code",
      "source": [
        "def contar_hasta(n):\n",
        "    contador = 1\n",
        "    while contador <= n:\n",
        "        yield contador  # devuelve un valor y \"pausa\" la función\n",
        "        contador += 1\n",
        "# Usamos el generador\n",
        "for numero in contar_hasta(5):\n",
        "    print(numero)"
      ],
      "metadata": {
        "colab": {
          "base_uri": "https://localhost:8080/"
        },
        "id": "-FxRna8LAd6O",
        "outputId": "1283f057-6560-4961-da8f-4003c0253f91"
      },
      "execution_count": null,
      "outputs": [
        {
          "output_type": "stream",
          "name": "stdout",
          "text": [
            "1\n",
            "2\n",
            "3\n",
            "4\n",
            "5\n"
          ]
        }
      ]
    }
  ]
}